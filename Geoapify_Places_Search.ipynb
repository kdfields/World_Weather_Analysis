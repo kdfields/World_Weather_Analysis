{
 "cells": [
  {
   "cell_type": "code",
   "execution_count": 3,
   "id": "da69efb3",
   "metadata": {},
   "outputs": [],
   "source": [
    "# Practice using Geoapify with fixed lat and long\n",
    "\n",
    "# import the required libraries\n",
    "import requests\n",
    "\n",
    "# import API key\n",
    "from config2 import geoapify_key"
   ]
  },
  {
   "cell_type": "code",
   "execution_count": null,
   "id": "0bd83d73",
   "metadata": {},
   "outputs": [],
   "source": [
    "# Set the parameters to search for a hotel in Paris\n",
    "latitude = 48.8566\n",
    "longitude = 2.3522\n",
    "radius = 5000\n",
    "params = {\n",
    "        \"categories\": \"accomodations.hotel\",\n",
    "        \"apiKey\": geoapify_key,\n",
    "        \"filter\" : f\"circle:{longitude}, {latitude}, {radius}\"\n",
    "}\n",
    "\n",
    "# Set up the base URL for the Geoapify Places API"
   ]
  }
 ],
 "metadata": {
  "kernelspec": {
   "display_name": "Python 3 (ipykernel)",
   "language": "python",
   "name": "python3"
  },
  "language_info": {
   "codemirror_mode": {
    "name": "ipython",
    "version": 3
   },
   "file_extension": ".py",
   "mimetype": "text/x-python",
   "name": "python",
   "nbconvert_exporter": "python",
   "pygments_lexer": "ipython3",
   "version": "3.9.13"
  }
 },
 "nbformat": 4,
 "nbformat_minor": 5
}
