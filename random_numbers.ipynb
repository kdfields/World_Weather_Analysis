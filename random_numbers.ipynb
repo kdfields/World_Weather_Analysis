{
 "cells": [
  {
   "cell_type": "code",
   "execution_count": 1,
   "id": "de72f744",
   "metadata": {},
   "outputs": [],
   "source": [
    "# Import the random module\n",
    "import random"
   ]
  },
  {
   "cell_type": "code",
   "execution_count": 2,
   "id": "da488a83",
   "metadata": {},
   "outputs": [
    {
     "data": {
      "text/plain": [
       "54"
      ]
     },
     "execution_count": 2,
     "metadata": {},
     "output_type": "execute_result"
    }
   ],
   "source": [
    "random.randint(-90,90)"
   ]
  },
  {
   "cell_type": "code",
   "execution_count": 3,
   "id": "d486fa43",
   "metadata": {},
   "outputs": [
    {
     "data": {
      "text/plain": [
       "0.9050187997725502"
      ]
     },
     "execution_count": 3,
     "metadata": {},
     "output_type": "execute_result"
    }
   ],
   "source": [
    "random.random()"
   ]
  },
  {
   "cell_type": "code",
   "execution_count": 4,
   "id": "a30a9324",
   "metadata": {},
   "outputs": [],
   "source": [
    "x=1\n",
    "latitudes = []\n",
    "while x > 1:\n",
    "    random_lat = random.randint(-90,89) + random.random()\n",
    "    latitudes.append(random_lat)\n",
    "    x += 1\n"
   ]
  },
  {
   "cell_type": "code",
   "execution_count": 5,
   "id": "03fa71a6",
   "metadata": {},
   "outputs": [],
   "source": [
    "# Import NumPy module\n",
    "import numpy as np"
   ]
  },
  {
   "cell_type": "code",
   "execution_count": 6,
   "id": "43536f73",
   "metadata": {},
   "outputs": [
    {
     "data": {
      "text/plain": [
       "-72.95045647309033"
      ]
     },
     "execution_count": 6,
     "metadata": {},
     "output_type": "execute_result"
    }
   ],
   "source": [
    "# Generate random decimals between -90.000 and 90.000 using uniform()\n",
    "np.random.uniform(-90.000, 90.000)"
   ]
  },
  {
   "cell_type": "code",
   "execution_count": 7,
   "id": "8ea99025",
   "metadata": {},
   "outputs": [
    {
     "data": {
      "text/plain": [
       "36.499037539166125"
      ]
     },
     "execution_count": 7,
     "metadata": {},
     "output_type": "execute_result"
    }
   ],
   "source": [
    "# Another option\n",
    "np.random.uniform(low=-90, high=90)"
   ]
  },
  {
   "cell_type": "code",
   "execution_count": 9,
   "id": "2dc262f6",
   "metadata": {},
   "outputs": [
    {
     "data": {
      "text/plain": [
       "array([ 3.42872238e+01, -3.84826768e+01,  6.29224194e+01,  4.25529631e+01,\n",
       "        7.35552511e+01, -4.90240137e+01, -1.81460216e+01, -6.07269426e+01,\n",
       "        5.73916328e+01, -4.06142350e+01,  3.84528523e+01,  6.51151307e+01,\n",
       "        4.48319281e+01,  2.42451855e+01,  6.69181129e+01,  5.54998679e+01,\n",
       "       -6.54368565e+01, -5.81896963e+00,  4.25038559e+01, -6.86468283e+01,\n",
       "        2.50498918e-02,  8.32026930e+01, -4.66609643e+01, -7.76172837e+01,\n",
       "       -7.69294732e+01, -2.91079120e+01,  8.28303175e+01,  3.00703238e+01,\n",
       "        7.28669657e+01, -4.10505159e+01,  4.77451459e+01,  5.16006351e+01,\n",
       "       -2.11132959e+01, -5.78730384e+01,  3.52405722e+01, -3.15679554e+01,\n",
       "        8.13989736e+01,  1.23423126e+01,  8.64134538e+01, -7.27664061e+01,\n",
       "        3.34433489e+01, -3.27587467e+01, -3.32941757e+00,  2.82873649e+01,\n",
       "        4.37445326e+01, -4.50357314e+01, -3.66989808e+01, -5.19354406e+01,\n",
       "       -5.89783923e+01,  1.72009921e+01])"
      ]
     },
     "execution_count": 9,
     "metadata": {},
     "output_type": "execute_result"
    }
   ],
   "source": [
    "# Create a random output of 50 values using uniform()\n",
    "np.random.uniform(-90.000, 90.000, size=50)"
   ]
  },
  {
   "cell_type": "code",
   "execution_count": 14,
   "id": "df446d04",
   "metadata": {},
   "outputs": [],
   "source": [
    "# Import timeit\n",
    "import timeit"
   ]
  },
  {
   "cell_type": "code",
   "execution_count": 15,
   "id": "1bfb0422",
   "metadata": {},
   "outputs": [
    {
     "name": "stdout",
     "output_type": "stream",
     "text": [
      "15.6 µs ± 1.09 µs per loop (mean ± std. dev. of 7 runs, 100000 loops each)\n"
     ]
    }
   ],
   "source": [
    "# Use timeit module to see how long it takes to generate 1500 random #s\n",
    "%timeit np.random.uniform(-90.000, 90.000, size=1500)"
   ]
  },
  {
   "cell_type": "code",
   "execution_count": 16,
   "id": "b1c7c377",
   "metadata": {},
   "outputs": [
    {
     "name": "stdout",
     "output_type": "stream",
     "text": [
      "1.58 ms ± 134 µs per loop (mean ± std. dev. of 7 runs, 1000 loops each)\n"
     ]
    }
   ],
   "source": [
    "# Use timeit module to see how long it takes to generate 1500 random #s (using a diff method to gen #s)\n",
    "\n",
    "def latitudes(size):\n",
    "    latitudes = []\n",
    "    x = 0\n",
    "    while x < (size):\n",
    "        random_lat = random.randint(-90, 90) + random.random()\n",
    "        latitudes.append(random_lat)\n",
    "        x += 1\n",
    "    return latitudes\n",
    "# Call the function with 1500.\n",
    "%timeit latitudes(1500)"
   ]
  },
  {
   "cell_type": "code",
   "execution_count": null,
   "id": "bef04b76",
   "metadata": {},
   "outputs": [],
   "source": [
    "# %timeit np.random.uniform(-90.000, 90.000, size=1500) is 100x faster than the code at In[16]"
   ]
  }
 ],
 "metadata": {
  "kernelspec": {
   "display_name": "Python 3 (ipykernel)",
   "language": "python",
   "name": "python3"
  },
  "language_info": {
   "codemirror_mode": {
    "name": "ipython",
    "version": 3
   },
   "file_extension": ".py",
   "mimetype": "text/x-python",
   "name": "python",
   "nbconvert_exporter": "python",
   "pygments_lexer": "ipython3",
   "version": "3.9.13"
  }
 },
 "nbformat": 4,
 "nbformat_minor": 5
}
